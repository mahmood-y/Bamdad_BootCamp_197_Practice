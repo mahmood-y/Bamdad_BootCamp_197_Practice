{
 "cells": [
  {
   "cell_type": "code",
   "execution_count": 3,
   "id": "2f7a3684",
   "metadata": {},
   "outputs": [
    {
     "name": "stdout",
     "output_type": "stream",
     "text": [
      "*******************\n",
      "*******************\n",
      "*******************\n",
      "*******************\n"
     ]
    }
   ],
   "source": [
    "'''1. Print a box like the one below.'''\n",
    "print('*'*19)\n",
    "print('*'*19)\n",
    "print('*'*19)\n",
    "print('*'*19)"
   ]
  },
  {
   "cell_type": "code",
   "execution_count": 4,
   "id": "e151df85",
   "metadata": {},
   "outputs": [
    {
     "name": "stdout",
     "output_type": "stream",
     "text": [
      "*******************\n",
      "*                 *\n",
      "*                 *\n",
      "*******************\n"
     ]
    }
   ],
   "source": [
    "'''2. Print a box like the one below.'''\n",
    "print('*'*19)\n",
    "print('*',' '*15,'*')\n",
    "print('*',' '*15,'*')\n",
    "print('*'*19)"
   ]
  },
  {
   "cell_type": "code",
   "execution_count": 5,
   "id": "7ff599e3",
   "metadata": {},
   "outputs": [
    {
     "name": "stdout",
     "output_type": "stream",
     "text": [
      "*\n",
      "**\n",
      "***\n",
      "****\n"
     ]
    }
   ],
   "source": [
    "'''3. Print a triangle like the one below.'''\n",
    "print('*')\n",
    "print('*'*2)\n",
    "print('*'*3)\n",
    "print('*'*4)"
   ]
  },
  {
   "cell_type": "code",
   "execution_count": 13,
   "id": "6db3af53",
   "metadata": {},
   "outputs": [
    {
     "name": "stdout",
     "output_type": "stream",
     "text": [
      "0.1017\n"
     ]
    }
   ],
   "source": [
    "'''4. Write a program that computes and prints the result of\n",
    "(512 - 282) / (47*48 + 5). It is roughly .1017.'''\n",
    "x = (512 - 282) / (47*48 + 5)\n",
    "print(f'{x:.4f}')"
   ]
  },
  {
   "cell_type": "code",
   "execution_count": 12,
   "id": "9d1f3a68",
   "metadata": {},
   "outputs": [
    {
     "name": "stdout",
     "output_type": "stream",
     "text": [
      "The square of 5 is 25."
     ]
    }
   ],
   "source": [
    "'''5. Ask the user to enter a number. Print out the square of the number, but use the sep optional\n",
    "argument to print it out in a full sentence that ends in a period.'''\n",
    "n = eval(input('Enter a number: '))\n",
    "sq_n = n**2\n",
    "print('The square of', n, 'is', sq_n, sep=' ', end='.')"
   ]
  },
  {
   "cell_type": "code",
   "execution_count": 14,
   "id": "0076bf7d",
   "metadata": {},
   "outputs": [
    {
     "name": "stdout",
     "output_type": "stream",
     "text": [
      "7---14---21---28---35\n"
     ]
    }
   ],
   "source": [
    "'''6. Ask the user to enter a number x. Use the sep optional argument to print out x, 2x, 3x, 4x,\n",
    "and 5x, each separated by three dashes'''\n",
    "x = eval(input('Enter a number: '))\n",
    "print(x, 2*x, 3*x, 4*x, 5*x, sep='---')"
   ]
  },
  {
   "cell_type": "code",
   "execution_count": 25,
   "id": "211412f8",
   "metadata": {},
   "outputs": [
    {
     "name": "stdout",
     "output_type": "stream",
     "text": [
      "47 Kilogram is eqaul to 103.40 pounds.\n"
     ]
    }
   ],
   "source": [
    "'''7. Write a program that asks the user for a weight in kilograms and converts it to pounds. There\n",
    "are 2.2 pounds in a kilogram.'''\n",
    "wt_kg = eval(input('Enter a weight in Kilogram: '))\n",
    "wt_lb = wt_kg * 2.2 # convert kg to lb or pound\n",
    "print(f'{wt_kg} Kilogram is eqaul to {wt_lb:.2f} pounds.')"
   ]
  },
  {
   "cell_type": "code",
   "execution_count": 29,
   "id": "ca9b3ec8",
   "metadata": {},
   "outputs": [
    {
     "name": "stdout",
     "output_type": "stream",
     "text": [
      "Sum of 15, 32 & 16 is 63.\n",
      "Average of 15, 32 & 16 is 21.00.\n"
     ]
    }
   ],
   "source": [
    "'''Write a program that asks the user to enter three numbers (use three separate input \n",
    "statements).Create variables called total and average that hold the sum and average of the\n",
    "three numbers and print out the values of total and average.'''\n",
    "n1 = eval(input('Enter first number: '))\n",
    "n2 = eval(input('Enter second number: '))\n",
    "n3 = eval(input('Enter third number: '))\n",
    "total = n1 + n2 + n3\n",
    "average = total / 3\n",
    "print(f'Sum of {n1}, {n2} & {n3} is {total}.')\n",
    "print(f'Average of {n1}, {n2} & {n3} is {average:.2f}.')"
   ]
  }
 ],
 "metadata": {
  "kernelspec": {
   "display_name": "Python 3.10.4 64-bit",
   "language": "python",
   "name": "python3"
  },
  "language_info": {
   "codemirror_mode": {
    "name": "ipython",
    "version": 3
   },
   "file_extension": ".py",
   "mimetype": "text/x-python",
   "name": "python",
   "nbconvert_exporter": "python",
   "pygments_lexer": "ipython3",
   "version": "3.10.4"
  },
  "vscode": {
   "interpreter": {
    "hash": "26de051ba29f2982a8de78e945f0abaf191376122a1563185a90213a26c5da77"
   }
  }
 },
 "nbformat": 4,
 "nbformat_minor": 5
}
