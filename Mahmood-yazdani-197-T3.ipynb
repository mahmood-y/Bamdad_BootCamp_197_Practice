{
 "cells": [
  {
   "cell_type": "markdown",
   "metadata": {},
   "source": [
    "Practice T3\n",
    "write a program to do the following actions on the below student's course dictionary.\n",
    "1. Add new course and value \n",
    "2. Edit course value\n",
    "3. Delete course\n",
    "4. View courses\n",
    "5. Result\n",
    "6. Exit"
   ]
  },
  {
   "cell_type": "code",
   "execution_count": 2,
   "metadata": {},
   "outputs": [],
   "source": [
    "d_courses = {'math': 18.5, 'python':19, 'sport':16}"
   ]
  },
  {
   "cell_type": "code",
   "execution_count": 3,
   "metadata": {},
   "outputs": [
    {
     "name": "stdout",
     "output_type": "stream",
     "text": [
      "Thanks for using program!\n"
     ]
    }
   ],
   "source": [
    "from IPython.display import clear_output\n",
    "while True:\n",
    "    print('''\n",
    "    1. Add new course and value \n",
    "    2. Edit course value\n",
    "    3. Delete course\n",
    "    4. View courses\n",
    "    5. Result\n",
    "    6. Exit\n",
    "            ''')\n",
    "    clear_output(wait=True)  # until next print will wait to clear\n",
    "    s = input(\"Enter choiced number:  \")\n",
    "    # width_c is max width of courses name column when printing\n",
    "    width_c = max([len(key) for key in d_courses]) + 2\n",
    "    if s == '6':\n",
    "        break\n",
    "    elif s == '1':\n",
    "        while True:\n",
    "            course = input('Enter new course name: ').lower().strip()\n",
    "            if course not in d_courses:\n",
    "                score = eval(input(f'Enter {course} score(0-20) :'))\n",
    "                if 0 <= score <= 20:\n",
    "                    d_courses[course] = score\n",
    "                    print(f'{course} score : {score} added')\n",
    "                    break\n",
    "                else:\n",
    "                    print('Score value is invalid !! try again')\n",
    "            else:\n",
    "                print(f'{course} is available !!')\n",
    "\n",
    "    elif s == '2':\n",
    "        while True:\n",
    "            course = input('Enter course name: ').lower().strip()\n",
    "            if course in d_courses:\n",
    "                score = eval(input(f'Enter new {course} score(0-20) :'))\n",
    "                if 0 <= score <= 20:\n",
    "                    print(\n",
    "                        f'{course} score : {d_courses[course]} edited to {score}')\n",
    "                    d_courses[course] = score\n",
    "                    break\n",
    "                else:\n",
    "                    print('Score value is invalid !! try again')\n",
    "            else:\n",
    "                print(f'{course} is not available !!')\n",
    "\n",
    "    elif s == '3':\n",
    "        course = input('Enter course to delete :').lower().strip()\n",
    "        if course in d_courses:\n",
    "            d_courses.pop(course)\n",
    "            print(f'{course} is deleted.')\n",
    "            # del d_course[course]  ---> another way to del key and value\n",
    "        else:\n",
    "            print(f'{course} not available to delete')\n",
    "\n",
    "    elif s == '4':\n",
    "        if d_courses:\n",
    "            print(f'{\"Course\":{width_c}}{\"Score\"}')\n",
    "            for key in d_courses:\n",
    "                print(f'{key:.<{width_c}} {d_courses[key]}')\n",
    "        else:\n",
    "            print('No course to view,Enter some...')\n",
    "\n",
    "    elif s == '5':\n",
    "        # if len of avg_txt more than len of longest course name\n",
    "        avg_txt = 'Average of courses:'\n",
    "        if len(avg_txt) > width_c:\n",
    "            width_c = len(avg_txt) + 4\n",
    "\n",
    "        print(f'{\"Course\":{width_c}} {\"Score\"}') # print titles of two columns\n",
    "        for key in d_courses:\n",
    "            print(f'{key:.<{width_c}} {d_courses[key]}') # print each course and its score\n",
    "\n",
    "        avg = sum(list(d_courses.values())) / len(d_courses)\n",
    "        print() # print a blank line for a space \n",
    "        print(f'{avg_txt+\" \":<{width_c}} {avg:.2f}')\n",
    "print(\"Thanks for using program!\")"
   ]
  }
 ],
 "metadata": {
  "kernelspec": {
   "display_name": "Python 3.10.7 64-bit",
   "language": "python",
   "name": "python3"
  },
  "language_info": {
   "codemirror_mode": {
    "name": "ipython",
    "version": 3
   },
   "file_extension": ".py",
   "mimetype": "text/x-python",
   "name": "python",
   "nbconvert_exporter": "python",
   "pygments_lexer": "ipython3",
   "version": "3.10.7"
  },
  "orig_nbformat": 4,
  "vscode": {
   "interpreter": {
    "hash": "a8a429dd3384afab0009274e63d060e112a5cb77c699fca471faa7f01f5c6825"
   }
  }
 },
 "nbformat": 4,
 "nbformat_minor": 2
}
