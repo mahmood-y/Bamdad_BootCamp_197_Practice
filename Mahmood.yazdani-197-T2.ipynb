{
 "cells": [
  {
   "cell_type": "code",
   "execution_count": 3,
   "id": "63aa58cb",
   "metadata": {},
   "outputs": [
    {
     "name": "stdout",
     "output_type": "stream",
     "text": [
      "\"Mohammad.ahmadpour@gmail.com\" is valid.\n"
     ]
    }
   ],
   "source": [
    "# example mail = 'bcdefg_12.hij@gmail.com'\n",
    "mail = input('Enter your Email address: ')\n",
    "\n",
    "flag = 1                     # check validation of Email address\n",
    "at_indx = mail.index('@')    # find index of \"@\" in Email to extract username\n",
    "username = mail[:at_indx]    # extract username from Email\n",
    "domain = mail[at_indx + 1:]  # extract domain from Email\n",
    "domain_name = domain[:domain.index('.')]   # extract domain name\n",
    "domain_ext = domain[domain.index('.')+1:]  # extract domain extention\n",
    "# check if username characters are valid\n",
    "for char in username:\n",
    "    if char.isalnum() or char in \"._\":\n",
    "        pass\n",
    "    else:\n",
    "        flag = 0\n",
    "        break\n",
    "if flag == 0:   # if \"flag\" equal to zero in above loop\n",
    "    pass\n",
    "# check if just one \"@\" in Email address\n",
    "elif mail.count('@') != 1:\n",
    "    flag = 0\n",
    "\n",
    "# check if username starts with english character\n",
    "elif not (username[0].isalpha()):\n",
    "    flag = 0\n",
    "\n",
    "# check if username length is in range\n",
    "elif len(username) < 6 or len(username) > 30:\n",
    "    flag = 0\n",
    "\n",
    "# check if just one '.' in domain\n",
    "elif domain.count('.') != 1:\n",
    "    flag = 0\n",
    "\n",
    "# check if character number of domain extention not in range\n",
    "elif not (2 <= len(domain_ext) <= 3):\n",
    "    flag = 0\n",
    "\n",
    "# check characters of domain name\n",
    "elif not (domain_name.isalpha()):\n",
    "    flag = 0\n",
    "# check length of domain name\n",
    "elif not (4 <= len(domain_name) <= 6):\n",
    "    flag = 0\n",
    "\n",
    "if flag:\n",
    "    print(f'\"{mail}\" is valid.')\n",
    "else:\n",
    "    print(f'\"{mail}\" is invalid !!!')"
   ]
  }
 ],
 "metadata": {
  "kernelspec": {
   "display_name": "Python 3.9.12 ('base')",
   "language": "python",
   "name": "python3"
  },
  "language_info": {
   "codemirror_mode": {
    "name": "ipython",
    "version": 3
   },
   "file_extension": ".py",
   "mimetype": "text/x-python",
   "name": "python",
   "nbconvert_exporter": "python",
   "pygments_lexer": "ipython3",
   "version": "3.9.12"
  },
  "vscode": {
   "interpreter": {
    "hash": "170b702c73c3bcdbfa047b72d5eaa238ab4f06aa584b8886a47b53bc4afe4b6b"
   }
  }
 },
 "nbformat": 4,
 "nbformat_minor": 5
}
